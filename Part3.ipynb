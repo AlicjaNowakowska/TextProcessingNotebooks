{
 "cells": [
  {
   "cell_type": "markdown",
   "metadata": {},
   "source": [
    "### Zad 32. \n",
    "Construct a hash function from {0,1}* into {0,1..,m-1}"
   ]
  },
  {
   "cell_type": "code",
   "execution_count": 1,
   "metadata": {},
   "outputs": [],
   "source": [
    "def hash_f(binary,m):\n",
    "    number=int(binary,2)\n",
    "    return number%m"
   ]
  },
  {
   "cell_type": "code",
   "execution_count": 4,
   "metadata": {},
   "outputs": [
    {
     "data": {
      "text/plain": [
       "7"
      ]
     },
     "execution_count": 4,
     "metadata": {},
     "output_type": "execute_result"
    }
   ],
   "source": [
    "hash_f(\"11111111\",8)"
   ]
  },
  {
   "cell_type": "markdown",
   "metadata": {},
   "source": [
    "### Zad. 33.\n",
    "Let S1; S2; S3 be the sets of all words shorter than 8 letters from text1,\n",
    "text2, text3, respectively. Compute signatures for S1; S2; S3 represented by 100\n",
    "minhashes and then estimate Jaccard similarity between each pair of S1; S2; S3."
   ]
  },
  {
   "cell_type": "code",
   "execution_count": 113,
   "metadata": {},
   "outputs": [
    {
     "name": "stdout",
     "output_type": "stream",
     "text": [
      "showing info https://raw.githubusercontent.com/nltk/nltk_data/gh-pages/index.xml\n",
      "*** Introductory Examples for the NLTK Book ***\n",
      "Loading text1, ..., text9 and sent1, ..., sent9\n",
      "Type the name of the text or sentence to view it.\n",
      "Type: 'texts()' or 'sents()' to list the materials.\n",
      "text1: Moby Dick by Herman Melville 1851\n",
      "text2: Sense and Sensibility by Jane Austen 1811\n",
      "text3: The Book of Genesis\n",
      "text4: Inaugural Address Corpus\n",
      "text5: Chat Corpus\n",
      "text6: Monty Python and the Holy Grail\n",
      "text7: Wall Street Journal\n",
      "text8: Personals Corpus\n",
      "text9: The Man Who Was Thursday by G . K . Chesterton 1908\n"
     ]
    }
   ],
   "source": [
    "import nltk\n",
    "nltk.download()\n",
    "from nltk.book import *\n",
    "S1=[i for i in set(text1) if len(i)<8]\n",
    "S2=[i for i in set(text2) if len(i)<8]\n",
    "S3=[i for i in set(text3) if len(i)<8]"
   ]
  },
  {
   "cell_type": "code",
   "execution_count": 68,
   "metadata": {},
   "outputs": [],
   "source": [
    "import random\n",
    "def minhash(s1, s2,s3 ,total):\n",
    "    random.shuffle(total)\n",
    "    sig1=next(filter(s1.__contains__, total), None)\n",
    "    sig2=next(filter(s2.__contains__, total), None)\n",
    "    sig3=next(filter(s3.__contains__, total), None)\n",
    "    return [sig1,sig2,sig3]"
   ]
  },
  {
   "cell_type": "code",
   "execution_count": 69,
   "metadata": {},
   "outputs": [],
   "source": [
    "import numpy as np\n",
    "def create_signature(s1,s2,s3,N):\n",
    "    total=s1+s2+s3\n",
    "    total=set(total)\n",
    "    total=list(total)\n",
    "    signatures=[minhash(s1,s2,s3,total) for i in range(N)]\n",
    "    signatures=np.array(signatures)\n",
    "    sig1=signatures[:,0]\n",
    "    sig2=signatures[:,1]\n",
    "    sig3=signatures[:,2]\n",
    "    return sig1,sig2,sig3"
   ]
  },
  {
   "cell_type": "code",
   "execution_count": 70,
   "metadata": {},
   "outputs": [
    {
     "name": "stdout",
     "output_type": "stream",
     "text": [
      "Pretty printing has been turned OFF\n",
      "Siganture for text1: \n",
      "['Inn' 'flies' 'nipper' ',' 'straps' 'event' 'Main' 'Bridge' 'comet'\n",
      " 'laughs' 'Common' 'rods' 'blooded' 'Hill' 'front' 'OWEN' 'molten' 'furs'\n",
      " 'emperor' 'Crack' 'JOHN' 'note' 'effort' 'vision' 'barely' 'caw' 'him'\n",
      " 'method' 'remains' 'bill' 'Bunger' 'HEAD' 'puffed' 'forges' 'Huzza'\n",
      " 'sweeps' 'blister' 'Hast' 'ye' 'sterned' 'Fleet' 'April' 'topsail'\n",
      " 'inlaid' '\"' 'isle' 'harems' 'provide' 'tame' 'embrace' 'milling'\n",
      " 'laughed' 'An' 'effaced' 'induce' 'forms' 'imports' 'endwise' 'NO'\n",
      " 'Babylon' 'NINE' 'hillock' 'riddles' 'settle' 'morass' 'cent' 'relish'\n",
      " 'worming' 'blown' 'sheath' 'Island' 'better' 'bunks' 'Dutch' 'magnets'\n",
      " 'tied' 'onsets' 'rapid' 'Pliny' 'corpse' 'labored' 'apeak' 'basso'\n",
      " 'seventy' 'grub' 'seed' 'Mene' '69' 'aliment' 'Faith' 'pillar' 'Signals'\n",
      " 'poke' 'Why' 'Chase' 'WHIFF' 'relied' 'cashier' 'smacks' 'enjoys']\n",
      "Siganture for text2: \n",
      "['Inn' 'help' 'go' ',' 'innate' 'event' 'papers' 'gossip' 'None' 'laughs'\n",
      " 'Common' 'Each' 'again' 'robbed' 'Tuesday' 'Does' 'assent' 'devil' 'will'\n",
      " 'deepest' 'JOHN' 'note' 'effort' 'lips' 'glance' 'rob' 'him' 'method'\n",
      " 'remains' 'claimed' 'wore' 'strange' 'moiety' 'concise' 'awaited'\n",
      " 'wildest' 'amused' 'bide' 'ye' 'mound' 'ranked' 'April' 'unless'\n",
      " 'denoted' '\"' 'book' 'fancied' 'provide' 'tame' 'order' 'stomach'\n",
      " 'laughed' 'An' 'history' 'induce' 'forms' 'heart' 'event' 'Ah' 'Morton'\n",
      " 'partook' 'Not' 'deceive' 'settle' 'TWICE' 'works' 'relish' \"'--\" 'blown'\n",
      " 'sheath' '-?\"' 'better' 'widower' 'within' 'Engaged' 'tied' 'loving'\n",
      " 'rapid' 'Wait' 'Five' 'sallow' 'shewn' 'puzzled' 'derived' 'oddest'\n",
      " 'justify' 'cleared' 'humour' 'paid' 'escaped' 'Willing' 'smiling' 'urge'\n",
      " 'Why' 'caught' 'sons' 'relied' 'descend' 'Selfish' 'flutter']\n",
      "Siganture for text3: \n",
      "['Matred' 'help' 'go' ',' 'waxed' 'escaped' 'lad' 'lie' 'Jokshan' 'fair'\n",
      " 'names' 'rods' 'Magog' 'greatly' 'sister' 'Male' 'captive' 'Amorite'\n",
      " 'bottle' 'Lud' 'five' 'Then' 'between' 'vision' 'bade' 'pitcher' 'him'\n",
      " 'Bring' 'you' 'Ur' 'fruits' 'sword' 'lion' 'whales' 'al' 'prophet'\n",
      " 'grapes' 'Hast' 'ye' 'anguish' 'Birsha' 'sh' 'shekels' 'kindled' 'Zuzims'\n",
      " 'Esek' 'fir' 'provide' 'Slay' 'faileth' 'flocks' 'laughed' 'An' 'angry'\n",
      " 'Zimran' 'Gether' 'cities' 'na' 'Rachel' 'Abrah' 'stooped' 'Not' 'Lot'\n",
      " 'five' 'nothing' 'ruler' 'off' 'flesh' 'grace' 'Sarai' 'Tola' 'better'\n",
      " 'sh' 'within' 'Horite' 'strakes' 'See' 'steward' 'pow' 'that' 'behold'\n",
      " 'chain' 'up' 'seventy' 'Thirty' 'seed' 'Havilah' 'out' 'cried' 'escaped'\n",
      " 'reviv' 'grapes' 'out' 'Why' 'Irad' 'sons' 'respect' 'Jabal' 'tops'\n",
      " 'Omar']\n"
     ]
    }
   ],
   "source": [
    "sig1,sig2,sig3=create_signature(S1,S2,S3,100)\n",
    "%pprint\n",
    "print(\"Siganture for text1: \")\n",
    "print(sig1)\n",
    "print(\"Siganture for text2: \")\n",
    "print(sig2)\n",
    "print(\"Siganture for text3: \")\n",
    "print(sig3)"
   ]
  },
  {
   "cell_type": "code",
   "execution_count": 73,
   "metadata": {},
   "outputs": [],
   "source": [
    "#estimate jaccard similarity\n",
    "def estimation_jaccard(sig1,sig2): #sig1 and sig2 same length\n",
    "    pr=[1 for i in range(0,len(sig1)) if sig1[i]==sig2[i]]\n",
    "    return len(pr)/len(sig1)"
   ]
  },
  {
   "cell_type": "code",
   "execution_count": 76,
   "metadata": {},
   "outputs": [
    {
     "name": "stdout",
     "output_type": "stream",
     "text": [
      "Estimated jaccard similarity: \n",
      "text1 and text2 : 0.29\n",
      "text1 and text3 : 0.13\n",
      "text2 and text3 : 0.14\n"
     ]
    }
   ],
   "source": [
    "print(\"Estimated jaccard similarity: \")\n",
    "print(\"text1 and text2 :\",estimation_jaccard(sig1,sig2))\n",
    "print(\"text1 and text3 :\",estimation_jaccard(sig1,sig3))\n",
    "print(\"text2 and text3 :\",estimation_jaccard(sig2,sig3))"
   ]
  },
  {
   "cell_type": "markdown",
   "metadata": {},
   "source": [
    "### zad 34.\n",
    "Compare the results from the previous exercise with the exact Jaccard similarity of\n",
    "sets S1; S2; S3. What if random permutation of the characteristic matrix rows were\n",
    "replaced with a random mapping?"
   ]
  },
  {
   "cell_type": "code",
   "execution_count": 66,
   "metadata": {},
   "outputs": [],
   "source": [
    "#true jaccard similarity previous list\n",
    "def zad22(A,B):\n",
    "    A=set(A)\n",
    "    B=set(B)\n",
    "    try:\n",
    "        jaccard=len(A.intersection(B))/len(A.union(B))\n",
    "        #print(\"A.intersection(B)\",A.intersection(B))\n",
    "        #print(\"A.union(B)\",A.union(B))\n",
    "        return jaccard\n",
    "    except:\n",
    "        print(\"not correct arguments\")"
   ]
  },
  {
   "cell_type": "code",
   "execution_count": 82,
   "metadata": {},
   "outputs": [
    {
     "name": "stdout",
     "output_type": "stream",
     "text": [
      "Truejaccard similarity: \n",
      "text1 and text2 : 0.24746416296420487\n",
      "text1 and text3 : 0.12482041747654864\n",
      "text2 and text3 : 0.20091688259916285\n"
     ]
    }
   ],
   "source": [
    "print(\"Truejaccard similarity: \")\n",
    "print(\"text1 and text2 :\",zad22(S1,S2))\n",
    "print(\"text1 and text3 :\",zad22(S1,S3))\n",
    "print(\"text2 and text3 :\",zad22(S2,S3))"
   ]
  },
  {
   "cell_type": "markdown",
   "metadata": {},
   "source": [
    "So far I have obtained quite a good estimation comparing to the real vlaue"
   ]
  },
  {
   "cell_type": "markdown",
   "metadata": {},
   "source": [
    "### Random mapping"
   ]
  },
  {
   "cell_type": "code",
   "execution_count": 184,
   "metadata": {},
   "outputs": [],
   "source": [
    "def loop(s,item,hash_functions,sig,n):\n",
    "    if item in s:\n",
    "        for j in range(0,n):\n",
    "            sig[j]=min(sig[j],hash_functions[j])\n",
    "    return sig"
   ]
  },
  {
   "cell_type": "code",
   "execution_count": 185,
   "metadata": {},
   "outputs": [],
   "source": [
    "def minhash2(s1,s2,s3,n):\n",
    "    total=s1+s2+s3\n",
    "    total=set(total)\n",
    "    total=list(total)\n",
    "    m=len(total)\n",
    "    sig1=[100000 for i in range(0,n)]\n",
    "    sig2=[100000 for i in range(0,n)]\n",
    "    sig3=[100000 for i in range(0,n)]\n",
    "    for row in range(0,len(total)):\n",
    "        hash_functions=[random.randint(0,m-1) for i in range(0,n)]\n",
    "        item=total[row]\n",
    "        sig1=loop(s1,item,hash_functions,sig1,n)\n",
    "        sig2=loop(s2,item,hash_functions,sig2,n)\n",
    "        sig3=loop(s3,item,hash_functions,sig3,n)\n",
    "    return sig1,sig2,sig3"
   ]
  },
  {
   "cell_type": "code",
   "execution_count": 190,
   "metadata": {},
   "outputs": [],
   "source": [
    "sig1,sig2,sig3=minhash2(S1,S2,S3,100)"
   ]
  },
  {
   "cell_type": "code",
   "execution_count": 191,
   "metadata": {},
   "outputs": [
    {
     "name": "stdout",
     "output_type": "stream",
     "text": [
      "Estimated jaccard similarity: \n",
      "text1 and text2 : 0.31\n",
      "text1 and text3 : 0.18\n",
      "text2 and text3 : 0.26\n"
     ]
    }
   ],
   "source": [
    "print(\"Estimated jaccard similarity: \")\n",
    "print(\"text1 and text2 :\",estimation_jaccard(sig1,sig2))\n",
    "print(\"text1 and text3 :\",estimation_jaccard(sig1,sig3))\n",
    "print(\"text2 and text3 :\",estimation_jaccard(sig2,sig3))"
   ]
  },
  {
   "cell_type": "markdown",
   "metadata": {},
   "source": [
    "Worse performance with this method"
   ]
  },
  {
   "cell_type": "markdown",
   "metadata": {},
   "source": [
    "### zad. 35."
   ]
  },
  {
   "cell_type": "markdown",
   "metadata": {},
   "source": [
    "Do wykonannia zadania potrzebne są 4 funkcje:\n",
    "\n",
    "-> pierwsza remove_items potrafi stworzyć podzbiór losowy z zadanym procentem wspólnych elementów\n",
    "\n",
    "-> druga minhash zwraca wektor wartości algorytmu minhashowania\n",
    "\n",
    "-> trzecia banding na podstawie tabeli z wartościami wielkrotnego minhashowania zwraca czy przynajmmniej raz wszystkie wartości\n",
    "w jednej bandzie się zgadzają, tabela inputowa jest dwuwymiarowa, gdyż badamy tylko dwa zbiory\n",
    "\n",
    "-> czwarta probability banding : wielokrotne powtarzanie banding daje nam w wyniku prawdopodbieństwo że przynajmniej raz wartości w jednej bandzie się zgadzają, podaje sie N czyli ile razy algorytm do liczenia prawdopodobieństwa ma być powtarzany"
   ]
  },
  {
   "cell_type": "code",
   "execution_count": 104,
   "metadata": {},
   "outputs": [],
   "source": [
    "import random\n",
    "import math\n",
    "def remove_items(my_set, percentage):\n",
    "    perc=percentage/100\n",
    "    #print(int(len(my_set)*(1-perc)))\n",
    "    #print(len(my_set)*(1-perc))\n",
    "    #print(math.ceil(len(my_set)*(1-perc)))\n",
    "    return random.sample(my_set,math.ceil(len(my_set)*(1-perc)))"
   ]
  },
  {
   "cell_type": "code",
   "execution_count": 105,
   "metadata": {},
   "outputs": [],
   "source": [
    "def minhash(sets ,total, n): #n number of minhashes\n",
    "    min_result=[[] for i in range(0,len(sets))]\n",
    "    for i in range(0,n):\n",
    "        random.shuffle(total)\n",
    "        for i in range(0,len(sets)):\n",
    "            min_result[i].append(next(filter(sets[i].__contains__, total), None))\n",
    "    return min_result"
   ]
  },
  {
   "cell_type": "code",
   "execution_count": 106,
   "metadata": {},
   "outputs": [],
   "source": [
    "def banding(minhash_table,r,b): #for pair sets two columns in min hash table, n how many permutations\n",
    "    # is fullfilled: signatures agree in all rows of at least one band  \n",
    "    agree=False\n",
    "    i=0\n",
    "    while agree==False:\n",
    "        agree_band=True\n",
    "        #print(\"i\",i,\"r\",r,\"i\",i,\":\",r)\n",
    "        band=minhash_table[i:r,:]\n",
    "        #print(\"band\",band)\n",
    "        for j in band:\n",
    "            #print(\"j in band\",j)\n",
    "            if j[0]!=j[1]: #checking only the pair\n",
    "                #print(\"not same\")\n",
    "                agree_band=False\n",
    "                break\n",
    "            continue\n",
    "                \n",
    "        if agree_band==True:\n",
    "            agree=True\n",
    "            break\n",
    "        i+=r\n",
    "        r+=r\n",
    "        if i >=len(minhash_table):\n",
    "            break\n",
    "            \n",
    "    return agree"
   ]
  },
  {
   "cell_type": "code",
   "execution_count": 156,
   "metadata": {},
   "outputs": [],
   "source": [
    "def probability_bending(my_set,r,b,N,n,number_of_permutations): #N number of performance for probability n number of sets\n",
    "    #removing with probability \n",
    "    sets=[]\n",
    "    perc=0\n",
    "    step=int(100/n)\n",
    "    for i in range(n):\n",
    "        #print(\"perc\",perc)\n",
    "        sets.append(remove_items(my_set,perc))\n",
    "        perc+=step\n",
    "    \n",
    "    #print(\"sets\",sets)\n",
    "    \"\"\"total=[]\n",
    "    for i in range(len(sets)):\n",
    "        total+=sets[i]\n",
    "    total=set(total)\n",
    "    total=list(total)\"\"\"\n",
    "    total=sets[0]\n",
    "    pr={} #probabilities for pair \n",
    "    for pair in range(1,n): \n",
    "        pr[pair]=[]\n",
    "    #print(\"pr\",pr)\n",
    "    \n",
    "    for i in range(0,N):\n",
    "    \n",
    "        minhash_table=minhash(sets,total,number_of_permutations) #number of permutations 5\n",
    "        #print(\"minhash_table\",minhash_table)\n",
    "        \n",
    "        minhash_table=np.array(minhash_table)\n",
    "        minhash_table=np.transpose(minhash_table)\n",
    "        S=minhash_table[:,0]\n",
    "        #print(\"S\",S)\n",
    "            \n",
    "        for pair_id in range(1,n-1):\n",
    "            #print(minhash_table[:,pair_id])\n",
    "            pair=[S,minhash_table[:,pair_id]]\n",
    "            pair=np.array(pair)\n",
    "            pair=np.transpose(pair)\n",
    "            #print(\"pair\")\n",
    "            #pair=[S,minhash_table[:,pair_id]]\n",
    "            #pair=np.concatenate(S,minhash_table[:,pair_id])\n",
    "            #print(\"pair\",pair)\n",
    "            pr[pair_id].append(banding(pair,r,b))\n",
    "    \n",
    "    for i in pr:\n",
    "        #print(i)\n",
    "        pr[i]=sum(pr[i])/N\n",
    "        print(\"pair: S and S\",100-100/n*i,\"%\")\n",
    "        jaccard_similarity=(100-100/n*i)/100 #zad22(S,sets[i]) liczba wspolnych elementow przez wszystkie elementy czyli procent wspolnych\n",
    "        #print(\"sets[i]\",sets[i])\n",
    "        print(jaccard_similarity)\n",
    "        print(\" probability: \",pr[i],\" value from the formula: 1-(1-jaccard_similarity**r)**b: \",1-(1-jaccard_similarity**r)**b)\n",
    "    \n",
    "    #return "
   ]
  },
  {
   "cell_type": "markdown",
   "metadata": {},
   "source": [
    "Ze względu na duża liczbę obliczeń potrzebną do sprawdzenia każdej pary, porównuję sobie S i jego podzbiory i szukam zbiorów jemu podobnych"
   ]
  },
  {
   "cell_type": "code",
   "execution_count": 159,
   "metadata": {},
   "outputs": [
    {
     "name": "stdout",
     "output_type": "stream",
     "text": [
      "pair: S and S 99.0 %\n",
      "0.99\n",
      " probability:  1.0  value from the formula: 1-(1-jaccard_similarity**r)**b:  0.9975980247911955\n",
      "pair: S and S 98.0 %\n",
      "0.98\n",
      " probability:  1.0  value from the formula: 1-(1-jaccard_similarity**r)**b:  0.990768786712453\n",
      "pair: S and S 97.0 %\n",
      "0.97\n",
      " probability:  0.98  value from the formula: 1-(1-jaccard_similarity**r)**b:  0.9800439245050717\n",
      "pair: S and S 96.0 %\n",
      "0.96\n",
      " probability:  0.95  value from the formula: 1-(1-jaccard_similarity**r)**b:  0.965912759208499\n",
      "pair: S and S 95.0 %\n",
      "0.95\n",
      " probability:  0.98  value from the formula: 1-(1-jaccard_similarity**r)**b:  0.948824935761621\n",
      "pair: S and S 94.0 %\n",
      "0.94\n",
      " probability:  0.96  value from the formula: 1-(1-jaccard_similarity**r)**b:  0.9291929307051001\n",
      "pair: S and S 93.0 %\n",
      "0.93\n",
      " probability:  0.9  value from the formula: 1-(1-jaccard_similarity**r)**b:  0.907394431420707\n",
      "pair: S and S 92.0 %\n",
      "0.92\n",
      " probability:  0.92  value from the formula: 1-(1-jaccard_similarity**r)**b:  0.883774592176368\n",
      "pair: S and S 91.0 %\n",
      "0.91\n",
      " probability:  0.82  value from the formula: 1-(1-jaccard_similarity**r)**b:  0.8586481720818927\n",
      "pair: S and S 90.0 %\n",
      "0.9\n",
      " probability:  0.86  value from the formula: 1-(1-jaccard_similarity**r)**b:  0.8323015599000001\n",
      "pair: S and S 89.0 %\n",
      "0.89\n",
      " probability:  0.8  value from the formula: 1-(1-jaccard_similarity**r)**b:  0.8049946905003382\n",
      "pair: S and S 88.0 %\n",
      "0.88\n",
      " probability:  0.71  value from the formula: 1-(1-jaccard_similarity**r)**b:  0.7769628575905978\n",
      "pair: S and S 87.0 %\n",
      "0.87\n",
      " probability:  0.77  value from the formula: 1-(1-jaccard_similarity**r)**b:  0.7484184272085643\n",
      "pair: S and S 86.0 %\n",
      "0.86\n",
      " probability:  0.77  value from the formula: 1-(1-jaccard_similarity**r)**b:  0.7195524563119693\n",
      "pair: S and S 85.0 %\n",
      "0.85\n",
      " probability:  0.76  value from the formula: 1-(1-jaccard_similarity**r)**b:  0.6905362206592772\n",
      "pair: S and S 84.0 %\n",
      "0.84\n",
      " probability:  0.72  value from the formula: 1-(1-jaccard_similarity**r)**b:  0.661522656034019\n",
      "pair: S and S 83.0 %\n",
      "0.83\n",
      " probability:  0.59  value from the formula: 1-(1-jaccard_similarity**r)**b:  0.6326477167279414\n",
      "pair: S and S 82.0 %\n",
      "0.82\n",
      " probability:  0.69  value from the formula: 1-(1-jaccard_similarity**r)**b:  0.6040316550640392\n",
      "pair: S and S 81.0 %\n",
      "0.81\n",
      " probability:  0.58  value from the formula: 1-(1-jaccard_similarity**r)**b:  0.5757802256094308\n",
      "pair: S and S 80.0 %\n",
      "0.8\n",
      " probability:  0.51  value from the formula: 1-(1-jaccard_similarity**r)**b:  0.5479858176000001\n",
      "pair: S and S 79.0 %\n",
      "0.79\n",
      " probability:  0.5  value from the formula: 1-(1-jaccard_similarity**r)**b:  0.5207285189737315\n",
      "pair: S and S 78.0 %\n",
      "0.78\n",
      " probability:  0.51  value from the formula: 1-(1-jaccard_similarity**r)**b:  0.4940771152876381\n",
      "pair: S and S 77.0 %\n",
      "0.77\n",
      " probability:  0.45  value from the formula: 1-(1-jaccard_similarity**r)**b:  0.4680900266741379\n",
      "pair: S and S 76.0 %\n",
      "0.76\n",
      " probability:  0.42  value from the formula: 1-(1-jaccard_similarity**r)**b:  0.44281618587660065\n",
      "pair: S and S 75.0 %\n",
      "0.75\n",
      " probability:  0.39  value from the formula: 1-(1-jaccard_similarity**r)**b:  0.41829586029052734\n",
      "pair: S and S 74.0 %\n",
      "0.74\n",
      " probability:  0.44  value from the formula: 1-(1-jaccard_similarity**r)**b:  0.3945614208264412\n",
      "pair: S and S 73.0 %\n",
      "0.73\n",
      " probability:  0.32  value from the formula: 1-(1-jaccard_similarity**r)**b:  0.3716380603029644\n",
      "pair: S and S 72.0 %\n",
      "0.72\n",
      " probability:  0.36  value from the formula: 1-(1-jaccard_similarity**r)**b:  0.34954446397375505\n",
      "pair: S and S 71.0 %\n",
      "0.71\n",
      " probability:  0.35  value from the formula: 1-(1-jaccard_similarity**r)**b:  0.32829343468990113\n",
      "pair: S and S 70.0 %\n",
      "0.7\n",
      " probability:  0.26  value from the formula: 1-(1-jaccard_similarity**r)**b:  0.30789247509999995\n",
      "pair: S and S 69.0 %\n",
      "0.69\n",
      " probability:  0.26  value from the formula: 1-(1-jaccard_similarity**r)**b:  0.2883443291934522\n",
      "pair: S and S 68.0 %\n",
      "0.68\n",
      " probability:  0.27  value from the formula: 1-(1-jaccard_similarity**r)**b:  0.2696474853984281\n",
      "pair: S and S 67.0 %\n",
      "0.67\n",
      " probability:  0.16  value from the formula: 1-(1-jaccard_similarity**r)**b:  0.2517966433544824\n",
      "pair: S and S 66.0 %\n",
      "0.66\n",
      " probability:  0.22  value from the formula: 1-(1-jaccard_similarity**r)**b:  0.23478314639089215\n",
      "pair: S and S 65.0 %\n",
      "0.65\n",
      " probability:  0.22  value from the formula: 1-(1-jaccard_similarity**r)**b:  0.21859538165537107\n",
      "pair: S and S 64.0 %\n",
      "0.64\n",
      " probability:  0.28  value from the formula: 1-(1-jaccard_similarity**r)**b:  0.20321914975393163\n",
      "pair: S and S 63.0 %\n",
      "0.63\n",
      " probability:  0.17  value from the formula: 1-(1-jaccard_similarity**r)**b:  0.18863800568118216\n",
      "pair: S and S 62.0 %\n",
      "0.62\n",
      " probability:  0.13  value from the formula: 1-(1-jaccard_similarity**r)**b:  0.1748335727413165\n",
      "pair: S and S 61.0 %\n",
      "0.61\n",
      " probability:  0.15  value from the formula: 1-(1-jaccard_similarity**r)**b:  0.1617858310833712\n",
      "pair: S and S 60.0 %\n",
      "0.6\n",
      " probability:  0.13  value from the formula: 1-(1-jaccard_similarity**r)**b:  0.14947338239999985\n",
      "pair: S and S 59.0 %\n",
      "0.59\n",
      " probability:  0.15  value from the formula: 1-(1-jaccard_similarity**r)**b:  0.13787369226699342\n",
      "pair: S and S 58.0 %\n",
      "0.58\n",
      " probability:  0.13  value from the formula: 1-(1-jaccard_similarity**r)**b:  0.12696331153100582\n",
      "pair: S and S 57.0 %\n",
      "0.57\n",
      " probability:  0.09  value from the formula: 1-(1-jaccard_similarity**r)**b:  0.116718078085431\n",
      "pair: S and S 56.0 %\n",
      "0.56\n",
      " probability:  0.09  value from the formula: 1-(1-jaccard_similarity**r)**b:  0.10711330030903876\n",
      "pair: S and S 55.0 %\n",
      "0.55\n",
      " probability:  0.12  value from the formula: 1-(1-jaccard_similarity**r)**b:  0.09812392337880871\n",
      "pair: S and S 54.0 %\n",
      "0.54\n",
      " probability:  0.07  value from the formula: 1-(1-jaccard_similarity**r)**b:  0.08972467960735075\n",
      "pair: S and S 53.0 %\n",
      "0.53\n",
      " probability:  0.02  value from the formula: 1-(1-jaccard_similarity**r)**b:  0.08189022389634482\n",
      "pair: S and S 52.0 %\n",
      "0.52\n",
      " probability:  0.08  value from the formula: 1-(1-jaccard_similarity**r)**b:  0.07459525534050937\n",
      "pair: S and S 51.0 %\n",
      "0.51\n",
      " probability:  0.03  value from the formula: 1-(1-jaccard_similarity**r)**b:  0.06781462596172383\n",
      "pair: S and S 50.0 %\n",
      "0.5\n",
      " probability:  0.07  value from the formula: 1-(1-jaccard_similarity**r)**b:  0.0615234375\n",
      "pair: S and S 49.0 %\n",
      "0.49\n",
      " probability:  0.06  value from the formula: 1-(1-jaccard_similarity**r)**b:  0.055697127137024016\n",
      "pair: S and S 48.0 %\n",
      "0.48\n",
      " probability:  0.04  value from the formula: 1-(1-jaccard_similarity**r)**b:  0.0503115429789146\n",
      "pair: S and S 47.0 %\n",
      "0.47\n",
      " probability:  0.09  value from the formula: 1-(1-jaccard_similarity**r)**b:  0.04534301007764174\n",
      "pair: S and S 46.0 %\n",
      "0.46\n",
      " probability:  0.04  value from the formula: 1-(1-jaccard_similarity**r)**b:  0.04076838772517233\n",
      "pair: S and S 45.0 %\n",
      "0.45\n",
      " probability:  0.02  value from the formula: 1-(1-jaccard_similarity**r)**b:  0.036565118710839783\n",
      "pair: S and S 44.0 %\n",
      "0.44\n",
      " probability:  0.05  value from the formula: 1-(1-jaccard_similarity**r)**b:  0.0327112711906159\n",
      "pair: S and S 43.0 %\n",
      "0.43\n",
      " probability:  0.01  value from the formula: 1-(1-jaccard_similarity**r)**b:  0.029185573776867035\n",
      "pair: S and S 42.0 %\n",
      "0.42\n",
      " probability:  0.04  value from the formula: 1-(1-jaccard_similarity**r)**b:  0.02596744441878318\n",
      "pair: S and S 41.0 %\n",
      "0.41\n",
      " probability:  0.03  value from the formula: 1-(1-jaccard_similarity**r)**b:  0.02303701360689847\n",
      "pair: S and S 40.0 %\n",
      "0.4\n",
      " probability:  0.01  value from the formula: 1-(1-jaccard_similarity**r)**b:  0.020375142400000046\n",
      "pair: S and S 39.0 %\n",
      "0.39\n",
      " probability:  0.02  value from the formula: 1-(1-jaccard_similarity**r)**b:  0.017963435739148048\n",
      "pair: S and S 38.0 %\n",
      "0.38\n",
      " probability:  0.0  value from the formula: 1-(1-jaccard_similarity**r)**b:  0.015784251481520184\n",
      "pair: S and S 37.0 %\n",
      "0.37\n",
      " probability:  0.02  value from the formula: 1-(1-jaccard_similarity**r)**b:  0.013820705556275792\n",
      "pair: S and S 36.0 %\n",
      "0.36\n",
      " probability:  0.0  value from the formula: 1-(1-jaccard_similarity**r)**b:  0.012056673615599367\n",
      "pair: S and S 35.0 %\n",
      "0.35\n",
      " probability:  0.01  value from the formula: 1-(1-jaccard_similarity**r)**b:  0.010476789526464803\n",
      "pair: S and S 34.0 %\n",
      "0.34\n",
      " probability:  0.03  value from the formula: 1-(1-jaccard_similarity**r)**b:  0.009066441022459348\n",
      "pair: S and S 33.0 %\n",
      "0.33\n",
      " probability:  0.0  value from the formula: 1-(1-jaccard_similarity**r)**b:  0.0078117628101473935\n",
      "pair: S and S 32.0 %\n",
      "0.32\n",
      " probability:  0.0  value from the formula: 1-(1-jaccard_similarity**r)**b:  0.0066996274009316625\n",
      "pair: S and S 31.0 %\n",
      "0.31\n",
      " probability:  0.0  value from the formula: 1-(1-jaccard_similarity**r)**b:  0.005717633917130205\n",
      "pair: S and S 30.0 %\n",
      "0.3\n",
      " probability:  0.02  value from the formula: 1-(1-jaccard_similarity**r)**b:  0.004854095100000122\n",
      "pair: S and S 29.0 %\n",
      "0.29\n",
      " probability:  0.0  value from the formula: 1-(1-jaccard_similarity**r)**b:  0.004098022727667017\n",
      "pair: S and S 28.0 %\n",
      "0.28\n",
      " probability:  0.0  value from the formula: 1-(1-jaccard_similarity**r)**b:  0.003439111632333125\n",
      "pair: S and S 27.0 %\n",
      "0.27\n",
      " probability:  0.0  value from the formula: 1-(1-jaccard_similarity**r)**b:  0.0028677224886790587\n",
      "pair: S and S 26.0 %\n",
      "0.26\n",
      " probability:  0.01  value from the formula: 1-(1-jaccard_similarity**r)**b:  0.0023748635290434805\n",
      "pair: S and S 25.0 %\n",
      "0.25\n",
      " probability:  0.02  value from the formula: 1-(1-jaccard_similarity**r)**b:  0.0019521713256835938\n",
      "pair: S and S 24.0 %\n",
      "0.24\n",
      " probability:  0.01  value from the formula: 1-(1-jaccard_similarity**r)**b:  0.0015918907661902626\n",
      "pair: S and S 23.0 %\n",
      "0.23\n",
      " probability:  0.0  value from the formula: 1-(1-jaccard_similarity**r)**b:  0.0012868543348879546\n",
      "pair: S and S 22.0 %\n",
      "0.22\n",
      " probability:  0.0  value from the formula: 1-(1-jaccard_similarity**r)**b:  0.0010304608007720706\n",
      "pair: S and S 21.0 %\n",
      "0.21\n",
      " probability:  0.0  value from the formula: 1-(1-jaccard_similarity**r)**b:  0.0008166534011903037\n",
      "pair: S and S 20.0 %\n",
      "0.2\n",
      " probability:  0.0  value from the formula: 1-(1-jaccard_similarity**r)**b:  0.000639897599999939\n",
      "pair: S and S 19.0 %\n",
      "0.19\n",
      " probability:  0.0  value from the formula: 1-(1-jaccard_similarity**r)**b:  0.000495158489337344\n",
      "pair: S and S 18.0 %\n",
      "0.18\n",
      " probability:  0.0  value from the formula: 1-(1-jaccard_similarity**r)**b:  0.0003778778953277273\n",
      "pair: S and S 17.0 %\n",
      "0.17\n",
      " probability:  0.0  value from the formula: 1-(1-jaccard_similarity**r)**b:  0.0002839512400609756\n",
      "pair: S and S 16.0 %\n",
      "0.16\n",
      " probability:  0.0  value from the formula: 1-(1-jaccard_similarity**r)**b:  0.00020970420488375385\n",
      "pair: S and S 15.0 %\n",
      "0.15\n",
      " probability:  0.0  value from the formula: 1-(1-jaccard_similarity**r)**b:  0.0001518692334960825\n",
      "pair: S and S 14.0 %\n",
      "0.14\n",
      " probability:  0.0  value from the formula: 1-(1-jaccard_similarity**r)**b:  0.00010756190745342398\n",
      "pair: S and S 13.0 %\n",
      "0.13\n",
      " probability:  0.0  value from the formula: 1-(1-jaccard_similarity**r)**b:  7.425722141507496e-05\n",
      "pair: S and S 12.0 %\n",
      "0.12\n",
      " probability:  0.0  value from the formula: 1-(1-jaccard_similarity**r)**b:  4.9765780826493966e-05\n",
      "pair: S and S 11.0 %\n",
      "0.11\n",
      " probability:  0.0  value from the formula: 1-(1-jaccard_similarity**r)**b:  3.2209940625804734e-05\n",
      "pair: S and S 10.0 %\n",
      "0.1\n",
      " probability:  0.0  value from the formula: 1-(1-jaccard_similarity**r)**b:  1.9999899999900705e-05\n",
      "pair: S and S 9.0 %\n",
      "0.09\n",
      " probability:  0.0  value from the formula: 1-(1-jaccard_similarity**r)**b:  1.1809765132042571e-05\n",
      "pair: S and S 8.0 %\n",
      "0.08\n",
      " probability:  0.0  value from the formula: 1-(1-jaccard_similarity**r)**b:  6.55358926260341e-06\n",
      "pair: S and S 7.0 %\n",
      "0.07\n",
      " probability:  0.0  value from the formula: 1-(1-jaccard_similarity**r)**b:  3.3613971751611516e-06\n",
      "pair: S and S 6.0 %\n",
      "0.06\n",
      " probability:  0.0  value from the formula: 1-(1-jaccard_similarity**r)**b:  1.555199395264495e-06\n",
      "pair: S and S 5.0 %\n",
      "0.05\n",
      " probability:  0.0  value from the formula: 1-(1-jaccard_similarity**r)**b:  6.249999022767128e-07\n",
      "pair: S and S 4.0 %\n",
      "0.04\n",
      " probability:  0.0  value from the formula: 1-(1-jaccard_similarity**r)**b:  2.0479998963374157e-07\n",
      "pair: S and S 3.0 %\n",
      "0.03\n",
      " probability:  0.0  value from the formula: 1-(1-jaccard_similarity**r)**b:  4.859999946926763e-08\n",
      "pair: S and S 2.0 %\n",
      "0.02\n",
      " probability:  0.0  value from the formula: 1-(1-jaccard_similarity**r)**b:  6.4000000854491645e-09\n",
      "pair: S and S 1.0 %\n",
      "0.01\n",
      " probability:  0.0  value from the formula: 1-(1-jaccard_similarity**r)**b:  2.000000165480742e-10\n"
     ]
    }
   ],
   "source": [
    "my_set=S1\n",
    "r=5\n",
    "n=100#len(my_set)\n",
    "number_of_permutations=10\n",
    "N=100\n",
    "b=number_of_permutations/r\n",
    "probability_bending(my_set,r,b,N,n,number_of_permutations)"
   ]
  },
  {
   "cell_type": "markdown",
   "metadata": {},
   "source": [
    "Podobne zbiory to te z dużym prawdopodobieńtswem, które znacząco spada po 80% wspólnych elementów, parametry dobrane wydają się sensowne, ponieważ otrzymane wyniki przypominają te z dokłądnego wzoru podanego na wykładzie"
   ]
  },
  {
   "cell_type": "markdown",
   "metadata": {},
   "source": [
    "### zad. 36.\n",
    "Banding technique: construct a program that for a given number of minashes n and\n",
    "similarity parameter s suggest parameters b and r such that signatures of two sets are\n",
    "consider \"potentialy similar\"iff their Jaccard smiliarity is around s."
   ]
  },
  {
   "cell_type": "code",
   "execution_count": 16,
   "metadata": {},
   "outputs": [],
   "source": [
    "def suggest(s,n):\n",
    "    pr=[]\n",
    "    b=[]\n",
    "    r=[]\n",
    "    for i in range(1,n,1):\n",
    "        r_=int(n/i)\n",
    "        b_=int(n/r_)\n",
    "        pr_=1-(1-s**r_)**b_\n",
    "        if pr_ >=0.8 : #potentially similar\n",
    "            if r_ in r:\n",
    "                pass\n",
    "            else:\n",
    "                r.append(r_)\n",
    "                b.append(b_)\n",
    "                pr.append(pr_)\n",
    "    return b,r,pr    "
   ]
  },
  {
   "cell_type": "code",
   "execution_count": 20,
   "metadata": {},
   "outputs": [
    {
     "name": "stdout",
     "output_type": "stream",
     "text": [
      "suggested b:  16 suggested r:  6  corresponding banding similarity 0.8650222713751882\n",
      "suggested b:  20 suggested r:  5  corresponding banding similarity 0.9747805441880405\n",
      "suggested b:  25 suggested r:  4  corresponding banding similarity 0.9989554935822509\n",
      "suggested b:  33 suggested r:  3  corresponding banding similarity 0.9999990457609271\n",
      "suggested b:  50 suggested r:  2  corresponding banding similarity 0.9999999999999976\n",
      "suggested b:  100 suggested r:  1  corresponding banding similarity 1.0\n"
     ]
    }
   ],
   "source": [
    "b,r,pr=suggest(0.7,100)\n",
    "for i in range(0,len(b)):\n",
    "    print(\"suggested b: \",b[i],\"suggested r: \", r[i],\" corresponding banding similarity\",pr[i])"
   ]
  },
  {
   "cell_type": "code",
   "execution_count": null,
   "metadata": {},
   "outputs": [],
   "source": []
  }
 ],
 "metadata": {
  "kernelspec": {
   "display_name": "Python 3",
   "language": "python",
   "name": "python3"
  },
  "language_info": {
   "codemirror_mode": {
    "name": "ipython",
    "version": 3
   },
   "file_extension": ".py",
   "mimetype": "text/x-python",
   "name": "python",
   "nbconvert_exporter": "python",
   "pygments_lexer": "ipython3",
   "version": "3.6.8"
  }
 },
 "nbformat": 4,
 "nbformat_minor": 2
}
